{
 "cells": [
  {
   "cell_type": "code",
   "execution_count": 1,
   "metadata": {},
   "outputs": [],
   "source": [
    "from sklearn.cluster import KMeans\n",
    "import pandas as pd\n",
    "import seaborn as sns\n",
    "import numpy as np\n",
    "import matplotlib.pyplot as plt\n",
    "from sklearn.cluster import KMeans\n",
    "from sklearn.model_selection import cross_val_score\n",
    "from sklearn import svm\n",
    "from sklearn.naive_bayes import GaussianNB\n",
    "from sklearn.ensemble import RandomForestRegressor, RandomForestClassifier\n",
    "from sklearn.neighbors import KNeighborsClassifier\n",
    "from sklearn.linear_model import LogisticRegression\n",
    "from sklearn.model_selection import KFold\n",
    "from sklearn.preprocessing import MinMaxScaler, StandardScaler"
   ]
  },
  {
   "cell_type": "code",
   "execution_count": 2,
   "metadata": {},
   "outputs": [],
   "source": [
    "train_data = pd.read_csv('train.csv')\n",
    "test_data = pd.read_csv('test.csv')\n",
    "datasets = [train_data, test_data]"
   ]
  },
  {
   "cell_type": "code",
   "execution_count": 3,
   "metadata": {},
   "outputs": [],
   "source": [
    "def kmeans_chart(prop, size = 0):\n",
    "    krange = range(1,size if size > 0 else train_data[prop].value_counts().size)\n",
    "    inertias = []\n",
    "    for i in krange:\n",
    "        kmeans = KMeans(n_clusters=i, random_state=0).fit(train_data[prop].values.reshape(train_data[prop].size,1))\n",
    "        inertias.append(kmeans.inertia_)\n",
    "\n",
    "    plt.plot(krange, inertias)\n",
    "    plt.title(prop)\n",
    "    plt.xlabel('cluster')\n",
    "    plt.ylabel('inertia')"
   ]
  },
  {
   "cell_type": "code",
   "execution_count": 4,
   "metadata": {},
   "outputs": [],
   "source": [
    "def bar_chart(feature):\n",
    "    survived = train_data[train_data['Survived']==1][feature].value_counts()\n",
    "    dead = train_data[train_data['Survived']==0][feature].value_counts()\n",
    "    df = pd.DataFrame([survived,dead])\n",
    "    df.index = ['Survived','Dead']\n",
    "    df.plot(kind='bar',stacked=True, figsize=(10,5))"
   ]
  },
  {
   "cell_type": "code",
   "execution_count": 5,
   "metadata": {},
   "outputs": [
    {
     "name": "stdout",
     "output_type": "stream",
     "text": [
      "C     28\n",
      "S     14\n",
      "W     10\n",
      "CA     8\n",
      "O      8\n",
      "F      6\n",
      "A      4\n",
      "Name: Ticket, dtype: int64\n"
     ]
    }
   ],
   "source": [
    "names = train_data['Ticket'].str.extract('([A-Za-z]+)\\.', expand=False)\n",
    "print(names.value_counts())\n",
    "title_mapping = { \"Mr\": 1, \"Miss\": 2, \"Mrs\": 3, \"Master\": 4, \"Rev\": 5, \"Col\": 6, \"Dona\": 7, \"Dr\": 8, \"Ms\": 9}\n",
    "ticket_mapping = {\"C\": 1, \"S\": 2, \"W\": 3, \"CA\": 4, \"O\": 5, \"F\": 6, \"A\": 7}\n"
   ]
  },
  {
   "cell_type": "code",
   "execution_count": 6,
   "metadata": {},
   "outputs": [],
   "source": [
    "sex_mapping = {\"male\": 0, \"female\": 1}\n",
    "for dataset in datasets:\n",
    "    dataset['Age'] = dataset['Age'].fillna(dataset['Age'].dropna().median())\n",
    "    dataset['Title'] = dataset['Name'].str.extract(' ([A-Za-z]+)\\.', expand=False)\n",
    "    dataset['Title'] = dataset['Title'].map(title_mapping)\n",
    "    dataset['NTicket'] = dataset['Ticket'].str.extract('([A-Za-z]+)\\.', expand=False)\n",
    "    dataset['NTicket'] = dataset['NTicket'].map(ticket_mapping)\n",
    "    dataset['NTicket'].fillna(8, inplace=True)\n",
    "    dataset[\"Age\"].fillna(dataset.groupby(\"Title\")[\"Age\"].transform(\"median\"), inplace=True)\n",
    "    dataset['Title'].fillna(dataset.groupby('Age')['Title'].transform(\"median\"), inplace=True)\n",
    "    dataset['Sex'] = dataset['Sex'].map(sex_mapping)\n",
    "    dataset['Embarked'] = dataset['Embarked'].map({\"S\": 0, \"C\": 1, \"Q\": 2})\n",
    "    dataset['Embarked'].fillna(value=3, inplace=True)\n",
    "    dataset['Fare'].fillna(dataset.groupby('Title')['Fare'].transform(\"median\"), inplace=True)\n",
    "    "
   ]
  },
  {
   "cell_type": "code",
   "execution_count": 9,
   "metadata": {},
   "outputs": [
    {
     "data": {
      "image/png": "[encoded data removed]",
      "text/plain": [
       "<Figure size 432x288 with 1 Axes>"
      ]
     },
     "metadata": {
      "needs_background": "light"
     },
     "output_type": "display_data"
    }
   ],
   "source": [
    "kmeans_chart('Fare', 10)\n",
    "# bar_chart('Ticket')\n",
    "#train_data['NTicket'].isnull().sum()\n",
    "# train_data['NTicket'].value_counts()"
   ]
  },
  {
   "cell_type": "code",
   "execution_count": null,
   "metadata": {},
   "outputs": [],
   "source": [
    "kmeans = KMeans(n_clusters=4, random_state=0).fit(train_data.Age.values.reshape(train_data.Age.values.size, 1))\n",
    "def transform_age(val):\n",
    "    return kmeans.predict([[val]])[0]\n",
    "\n",
    "kmeans_fare = KMeans(n_clusters=5, random_state=0).fit(train_data.Fare.values.reshape(train_data.Fare.size,1))\n",
    "def transform_fare(val):\n",
    "    return kmeans_fare.predict([[val]])[0]\n",
    "\n",
    "mkeans_parch = KMeans(n_clusters=4, random_state=0).fit(train_data.Parch.values.reshape(train_data.Parch.size,1))\n",
    "def transform_parch(val):\n",
    "    return mkeans_parch.predict([[val]])[0]\n",
    "\n",
    "mkeans_sibsp = KMeans(n_clusters=5, random_state=0).fit(train_data.SibSp.values.reshape(train_data.SibSp.size,1))\n",
    "def transform_sibsp(val):\n",
    "    return mkeans_sibsp.predict([[val]])[0]\n",
    "\n",
    "kmeans_title = KMeans(n_clusters=4, random_state=0).fit(train_data.Title.values.reshape(train_data.Title.size,1))\n",
    "def transform_title(val):\n",
    "    return kmeans_title.predict([[val]])[0]"
   ]
  },
  {
   "cell_type": "code",
   "execution_count": null,
   "metadata": {},
   "outputs": [],
   "source": [
    "for dataset in datasets:\n",
    "    dataset['AgeGroup'] =  dataset['Age'].map(transform_age)\n",
    "    dataset['Fare'] =  dataset['Fare'].map(transform_fare)\n",
    "    dataset['Parch'] = dataset['Parch'].map(transform_parch)\n",
    "    dataset['SibSp'] = dataset['SibSp'].map(transform_sibsp)\n",
    "    dataset['Title'] = dataset['Title'].map(transform_title)\n",
    "    "
   ]
  },
  {
   "cell_type": "code",
   "execution_count": null,
   "metadata": {},
   "outputs": [],
   "source": [
    "train_data.head()"
   ]
  },
  {
   "cell_type": "code",
   "execution_count": null,
   "metadata": {},
   "outputs": [],
   "source": [
    "# train_data['Fare'].value_counts().size\n",
    "\n",
    "# test_data['NTicket'].fillna(train_data.groupby('Title')['NTicket'].transform(\"median\"), inplace=True)\n",
    "# test_data['NTicket'].fillna(7, inplace=True)\n",
    "# train_data['NTicket'].isnull().sum()\n",
    "bar_chart('NTicket')"
   ]
  },
  {
   "cell_type": "code",
   "execution_count": null,
   "metadata": {},
   "outputs": [],
   "source": [
    "print(train_data.columns)\n",
    "\n",
    "# scaler_y = StandardScaler()\n",
    "# y = scaler_y.fit_transform(train_data['Survived'].values.reshape(-1, 1))\n",
    "scaler_x = StandardScaler()\n",
    "X = scaler_x.fit_transform(train_data[['Pclass','Sex', 'AgeGroup', 'Title', 'Embarked', 'SibSp', 'Parch', 'Fare', 'NTicket']].values, y)\n",
    "\n",
    "\n",
    "# X = train_data[['Pclass','Sex', 'AgeGroup', 'Title', 'Embarked', 'SibSp', 'Parch', 'Fare', 'NTicket']]\n",
    "y = train_data['Survived']\n",
    "\n",
    "\n",
    "\n",
    "\n",
    "k_fold = KFold(n_splits=10, shuffle=True, random_state=0)\n",
    "\n",
    "# bar_chart('Ticket')"
   ]
  },
  {
   "cell_type": "code",
   "execution_count": null,
   "metadata": {},
   "outputs": [],
   "source": [
    "# # X = train_data.Age[train_data['Sex'] == 'male'].value_counts().plot(kind=\"bar\")\n",
    "# survived = train_data[(train_data['Sex'] == 'male') & (train_data['Survived'] == 1)]\n",
    "# # \n",
    "# survived.Title.values\n",
    "\n",
    "\n",
    "clf = svm.SVC(kernel='linear', gamma='scale', C=1)\n",
    "scoring='accuracy'\n",
    "scores = cross_val_score(clf, X, y, cv=k_fold, n_jobs=1, scoring=scoring)\n",
    "print(\"Accuracy: %0.2f (+/- %0.2f)\" % (scores.mean(), scores.std() * 2))\n",
    "\n",
    "# mae = mean_absolute_error(predictions, val_y)\n",
    "# print(mae)\n",
    "# print(\"Validation MAE for Random Forest Model: {:,.0f}\".format(mae))\n",
    "\n",
    "# survived.Age.size\n",
    "# kmeans('age', survived.Age.values.reshape(survived.Age.size,1))\n",
    "# kmeans('title', survived.Title.values.reshape(survived.Title.size,1))\n",
    "# train_data[train_data['Sex'] == 'male'].describe()\n",
    "# sns.relplot(x=\"timepoint\", y=\"survived\", col=\"region\",\n",
    "#             hue=\"event\", style=\"event\",\n",
    "#             kind=\"line\", data=fmri);"
   ]
  },
  {
   "cell_type": "code",
   "execution_count": null,
   "metadata": {},
   "outputs": [],
   "source": [
    "gnb = GaussianNB()\n",
    "scoring = 'accuracy'\n",
    "scores_gnb = cross_val_score(gnb, X, y, cv=k_fold, n_jobs=1, scoring=scoring)\n",
    "print(\"Accuracy: %0.2f (+/- %0.2f)\" % (scores_gnb.mean(), scores_gnb.std() * 2))"
   ]
  },
  {
   "cell_type": "code",
   "execution_count": null,
   "metadata": {},
   "outputs": [],
   "source": [
    "random_forestc = RandomForestClassifier(random_state=1, n_estimators=600)\n",
    "scoring = 'accuracy'\n",
    "scores_rforestc = cross_val_score(random_forestc, X, y, cv=k_fold, n_jobs=1, scoring=scoring)\n",
    "print(\"Accuracy: %0.2f (+/- %0.2f)\" % (scores_rforestc.mean(), scores_rforestc.std() * 2))"
   ]
  },
  {
   "cell_type": "code",
   "execution_count": null,
   "metadata": {},
   "outputs": [],
   "source": [
    "nbrs = KNeighborsClassifier(n_neighbors=5)\n",
    "scoring = 'accuracy'\n",
    "scores_nbrs = cross_val_score(nbrs, X, y, cv=k_fold, n_jobs=1, scoring=scoring)\n",
    "print(\"Accuracy: %0.2f (+/- %0.2f)\" % (scores_nbrs.mean(), scores_nbrs.std() * 2))\n"
   ]
  },
  {
   "cell_type": "code",
   "execution_count": null,
   "metadata": {},
   "outputs": [],
   "source": [
    "logr = LogisticRegression(random_state=5, max_iter=200)\n",
    "scoring = 'accuracy'\n",
    "scores_logr = cross_val_score(logr, X, y, cv=k_fold, n_jobs=1, scoring=scoring)\n",
    "print(\"Accuracy: %0.2f (+/- %0.2f)\" % (scores_logr.mean(), scores_logr.std() * 2))"
   ]
  },
  {
   "cell_type": "code",
   "execution_count": null,
   "metadata": {},
   "outputs": [],
   "source": [
    "clf = svm.SVC(kernel='linear', gamma='auto', C=1)\n",
    "clf.fit(X,y)"
   ]
  },
  {
   "cell_type": "code",
   "execution_count": null,
   "metadata": {},
   "outputs": [],
   "source": [
    "test_data['Fare'].fillna(train_data.groupby('Title')['Fare'].transform(\"median\"), inplace=True)\n",
    "inputs = test_data[['Pclass','Sex', 'AgeGroup', 'Title', 'Embarked', 'SibSp', 'Parch', 'Fare', 'NTicket']];\n",
    "# inputs['Fare'].fillna(test_data.groupby('Embarked')['Fare'].dropna().transform(\"median\"). in_place=True)"
   ]
  },
  {
   "cell_type": "code",
   "execution_count": null,
   "metadata": {},
   "outputs": [],
   "source": [
    "model = RandomForestClassifier(random_state=1, n_estimators=400)\n",
    "model.fit(X,y)\n",
    "\n",
    "prediction = model.predict(inputs)\n"
   ]
  },
  {
   "cell_type": "code",
   "execution_count": null,
   "metadata": {},
   "outputs": [],
   "source": [
    "submission = pd.DataFrame({\n",
    "        \"PassengerId\": test_data[\"PassengerId\"],\n",
    "        \"Survived\": prediction\n",
    "    })\n",
    "\n",
    "submission.to_csv('random-forest-ticket.csv', index=False)"
   ]
  },
  {
   "cell_type": "code",
   "execution_count": null,
   "metadata": {},
   "outputs": [],
   "source": [
    "submission = pd.read_csv('temp.csv')\n",
    "submission.head(20)"
   ]
  },
  {
   "cell_type": "code",
   "execution_count": null,
   "metadata": {},
   "outputs": [],
   "source": [
    "new_file = 'random-forest-ticket.csv'\n",
    "files = ['gauss.csv', 'logistic.csv', 'svm.csv', 'submission.csv', 'kmean_forest.csv']\n",
    "\n",
    "df1 = pd.read_csv(new_file)\n",
    "result = pd.DataFrame(columns=['file', 'equal', 'not equal', 'percentage'])\n",
    "for file in files:\n",
    "    if (file != new_file):\n",
    "        df2 = pd.read_csv(file)\n",
    "        df1['isEqual'] = np.where(df1['Survived'] == df2['Survived'],1,0)\n",
    "        result = result.append({'file': file, 'equal': df1['isEqual'].value_counts()[1], 'not equal': df1['isEqual'].value_counts()[0], 'percentage': df1['isEqual'].value_counts()[1]/df1.size }, ignore_index=True)\n",
    "\n",
    "\n",
    "\n",
    "result.head()"
   ]
  },
  {
   "cell_type": "code",
   "execution_count": null,
   "metadata": {},
   "outputs": [],
   "source": [
    "df1.head(20)"
   ]
  },
  {
   "cell_type": "code",
   "execution_count": null,
   "metadata": {},
   "outputs": [],
   "source": [
    "new_file = 'svm.csv'\n",
    "bests = ['logistic.csv', 'temp.csv', 'submission.csv', 'new-alg.csv']\n",
    "\n",
    "df1 = pd.read_csv(new_file)\n",
    "result = pd.DataFrame(columns=['file', 'equal', 'not equal', 'percentage'])\n",
    "for file in bests:\n",
    "    if (file != new_file):\n",
    "        df2 = pd.read_csv(file)\n",
    "        df1['isEqual'] = np.where(df1['Survived'] == df2['Survived'],1,0)\n",
    "        result = result.append({'file': file, 'equal': df1['isEqual'].value_counts()[1], 'not equal': df1['isEqual'].value_counts()[0], 'percentage': df1['isEqual'].value_counts()[1]/df1.size }, ignore_index=True)\n",
    "\n",
    "\n",
    "\n",
    "result.head()"
   ]
  }
 ],
 "metadata": {
  "kernelspec": {
   "display_name": "Python 3",
   "language": "python",
   "name": "python3"
  },
  "language_info": {
   "codemirror_mode": {
    "name": "ipython",
    "version": 3
   },
   "file_extension": ".py",
   "mimetype": "text/x-python",
   "name": "python",
   "nbconvert_exporter": "python",
   "pygments_lexer": "ipython3",
   "version": "3.7.6"
  }
 },
 "nbformat": 4,
 "nbformat_minor": 4
}
